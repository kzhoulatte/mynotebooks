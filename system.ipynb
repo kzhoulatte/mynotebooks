{
 "cells": [
  {
   "cell_type": "code",
   "execution_count": 1,
   "metadata": {},
   "outputs": [
    {
     "name": "stdout",
     "output_type": "stream",
     "text": [
      "GJS_DEBUG_TOPICS=JS ERROR;JS LOG\r\n",
      "LESSOPEN=| /usr/bin/lesspipe %s\r\n",
      "CONDA_PROMPT_MODIFIER=(sgcc) \r\n",
      "USER=kzhoulatte\r\n",
      "LANGUAGE=en_US:en\r\n",
      "LC_TIME=en_US.UTF-8\r\n",
      "TEXTDOMAIN=im-config\r\n",
      "XDG_SEAT=seat0\r\n",
      "MPLBACKEND=module://ipykernel.pylab.backend_inline\r\n",
      "SSH_AGENT_PID=2667\r\n",
      "XDG_SESSION_TYPE=x11\r\n",
      "SHLVL=1\r\n",
      "CONDA_SHLVL=2\r\n",
      "QT4_IM_MODULE=fcitx\r\n",
      "HOME=/home/kzhoulatte\r\n",
      "DESKTOP_SESSION=ubuntu\r\n",
      "GNOME_SHELL_SESSION_MODE=ubuntu\r\n",
      "GTK_MODULES=gail:atk-bridge\r\n",
      "XDG_SEAT_PATH=/org/freedesktop/DisplayManager/Seat0\r\n",
      "PAGER=cat\r\n",
      "LC_MONETARY=en_US.UTF-8\r\n",
      "DBUS_SESSION_BUS_ADDRESS=unix:path=/run/user/1000/bus\r\n",
      "COLORTERM=truecolor\r\n",
      "_CE_M=\r\n",
      "MANDATORY_PATH=/usr/share/gconf/ubuntu.mandatory.path\r\n",
      "IM_CONFIG_PHASE=2\r\n",
      "LOGNAME=kzhoulatte\r\n",
      "GTK_IM_MODULE=fcitx\r\n",
      "_=/home/kzhoulatte/anaconda3/envs/sgcc/bin/jupyter\r\n",
      "DEFAULTS_PATH=/usr/share/gconf/ubuntu.default.path\r\n",
      "XDG_SESSION_ID=c2\r\n",
      "TERM=xterm-color\r\n",
      "_CE_CONDA=\r\n",
      "GNOME_DESKTOP_SESSION_ID=this-is-deprecated\r\n",
      "PATH=/home/kzhoulatte/anaconda3/envs/sgcc/bin:/home/kzhoulatte/anaconda3/condabin:/home/kzhoulatte/.local/bin:/usr/local/sbin:/usr/local/bin:/usr/sbin:/usr/bin:/sbin:/bin:/usr/games:/usr/local/games:/snap/bin\r\n",
      "GDM_LANG=en_US\r\n",
      "PAPERSIZE=letter\r\n",
      "SESSION_MANAGER=local/kzhoulatte:@/tmp/.ICE-unix/2574,unix/kzhoulatte:/tmp/.ICE-unix/2574\r\n",
      "XDG_MENU_PREFIX=gnome-\r\n",
      "S_COLORS=auto\r\n",
      "GNOME_TERMINAL_SCREEN=/org/gnome/Terminal/screen/7a12cbe0_5a23_4f8f_88de_6836e4c3755d\r\n",
      "LC_ADDRESS=en_US.UTF-8\r\n",
      "XDG_RUNTIME_DIR=/run/user/1000\r\n",
      "XDG_SESSION_PATH=/org/freedesktop/DisplayManager/Session0\r\n",
      "DISPLAY=:0\r\n",
      "LANG=en_US.UTF-8\r\n",
      "CONDA_PREFIX_1=/home/kzhoulatte/anaconda3\r\n",
      "XDG_CURRENT_DESKTOP=ubuntu:GNOME\r\n",
      "LC_TELEPHONE=en_US.UTF-8\r\n",
      "LS_COLORS=rs=0:di=01;34:ln=01;36:mh=00:pi=40;33:so=01;35:do=01;35:bd=40;33;01:cd=40;33;01:or=40;31;01:mi=00:su=37;41:sg=30;43:ca=30;41:tw=30;42:ow=34;42:st=37;44:ex=01;32:*.tar=01;31:*.tgz=01;31:*.arc=01;31:*.arj=01;31:*.taz=01;31:*.lha=01;31:*.lz4=01;31:*.lzh=01;31:*.lzma=01;31:*.tlz=01;31:*.txz=01;31:*.tzo=01;31:*.t7z=01;31:*.zip=01;31:*.z=01;31:*.Z=01;31:*.dz=01;31:*.gz=01;31:*.lrz=01;31:*.lz=01;31:*.lzo=01;31:*.xz=01;31:*.zst=01;31:*.tzst=01;31:*.bz2=01;31:*.bz=01;31:*.tbz=01;31:*.tbz2=01;31:*.tz=01;31:*.deb=01;31:*.rpm=01;31:*.jar=01;31:*.war=01;31:*.ear=01;31:*.sar=01;31:*.rar=01;31:*.alz=01;31:*.ace=01;31:*.zoo=01;31:*.cpio=01;31:*.7z=01;31:*.rz=01;31:*.cab=01;31:*.wim=01;31:*.swm=01;31:*.dwm=01;31:*.esd=01;31:*.jpg=01;35:*.jpeg=01;35:*.mjpg=01;35:*.mjpeg=01;35:*.gif=01;35:*.bmp=01;35:*.pbm=01;35:*.pgm=01;35:*.ppm=01;35:*.tga=01;35:*.xbm=01;35:*.xpm=01;35:*.tif=01;35:*.tiff=01;35:*.png=01;35:*.svg=01;35:*.svgz=01;35:*.mng=01;35:*.pcx=01;35:*.mov=01;35:*.mpg=01;35:*.mpeg=01;35:*.m2v=01;35:*.mkv=01;35:*.webm=01;35:*.ogm=01;35:*.mp4=01;35:*.m4v=01;35:*.mp4v=01;35:*.vob=01;35:*.qt=01;35:*.nuv=01;35:*.wmv=01;35:*.asf=01;35:*.rm=01;35:*.rmvb=01;35:*.flc=01;35:*.avi=01;35:*.fli=01;35:*.flv=01;35:*.gl=01;35:*.dl=01;35:*.xcf=01;35:*.xwd=01;35:*.yuv=01;35:*.cgm=01;35:*.emf=01;35:*.ogv=01;35:*.ogx=01;35:*.aac=00;36:*.au=00;36:*.flac=00;36:*.m4a=00;36:*.mid=00;36:*.midi=00;36:*.mka=00;36:*.mp3=00;36:*.mpc=00;36:*.ogg=00;36:*.ra=00;36:*.wav=00;36:*.oga=00;36:*.opus=00;36:*.spx=00;36:*.xspf=00;36:\r\n",
      "XDG_SESSION_DESKTOP=ubuntu\r\n",
      "XMODIFIERS=@im=fcitx\r\n",
      "GNOME_TERMINAL_SERVICE=:1.900\r\n",
      "XAUTHORITY=/home/kzhoulatte/.Xauthority\r\n",
      "KERNEL_LAUNCH_TIMEOUT=40\r\n",
      "SSH_AUTH_SOCK=/run/user/1000/keyring/ssh\r\n",
      "XDG_GREETER_DATA_DIR=/var/lib/lightdm-data/kzhoulatte\r\n",
      "CONDA_PYTHON_EXE=/home/kzhoulatte/anaconda3/bin/python\r\n",
      "LC_NAME=en_US.UTF-8\r\n",
      "SHELL=/bin/bash\r\n",
      "QT_ACCESSIBILITY=1\r\n",
      "GDMSESSION=ubuntu\r\n",
      "LESSCLOSE=/usr/bin/lesspipe %s %s\r\n",
      "CONDA_DEFAULT_ENV=sgcc\r\n",
      "LC_MEASUREMENT=en_US.UTF-8\r\n",
      "TEXTDOMAINDIR=/usr/share/locale/\r\n",
      "GJS_DEBUG_OUTPUT=stderr\r\n",
      "GPG_AGENT_INFO=/run/user/1000/gnupg/S.gpg-agent:0:1\r\n",
      "LC_IDENTIFICATION=en_US.UTF-8\r\n",
      "XDG_VTNR=7\r\n",
      "QT_IM_MODULE=fcitx\r\n",
      "GIT_PAGER=cat\r\n",
      "PWD=/home/kzhoulatte/PycharmProjects/mynotebooks\r\n",
      "CLICOLOR=1\r\n",
      "CLUTTER_IM_MODULE=xim\r\n",
      "CONDA_EXE=/home/kzhoulatte/anaconda3/bin/conda\r\n",
      "XDG_DATA_DIRS=/usr/share/ubuntu:/usr/local/share:/usr/share:/var/lib/snapd/desktop\r\n",
      "XDG_CONFIG_DIRS=/etc/xdg/xdg-ubuntu:/etc/xdg\r\n",
      "JPY_PARENT_PID=30332\r\n",
      "LC_NUMERIC=en_US.UTF-8\r\n",
      "LC_PAPER=en_US.UTF-8\r\n",
      "CONDA_PREFIX=/home/kzhoulatte/anaconda3/envs/sgcc\r\n",
      "VTE_VERSION=5202\r\n"
     ]
    }
   ],
   "source": [
    "!env"
   ]
  },
  {
   "cell_type": "code",
   "execution_count": 6,
   "metadata": {},
   "outputs": [
    {
     "name": "stdout",
     "output_type": "stream",
     "text": [
      "/bin/sh: 1: /home/kzhoulatte/anaconda3/envs/sgcc/bin:/home/kzhoulatte/anaconda3/condabin:/home/kzhoulatte/.local/bin:/usr/local/sbin:/usr/local/bin:/usr/sbin:/usr/bin:/sbin:/bin:/usr/games:/usr/local/games:/snap/bin: not found\r\n"
     ]
    }
   ],
   "source": [
    "!$PATH"
   ]
  },
  {
   "cell_type": "code",
   "execution_count": 8,
   "metadata": {},
   "outputs": [
    {
     "name": "stdout",
     "output_type": "stream",
     "text": [
      "plotly.ipynb  README.md  system.ipynb  tensorflow.ipynb  visualization.ipynb\r\n"
     ]
    }
   ],
   "source": [
    "ls"
   ]
  },
  {
   "cell_type": "code",
   "execution_count": 11,
   "metadata": {},
   "outputs": [
    {
     "name": "stdout",
     "output_type": "stream",
     "text": [
      "/home/kzhoulatte\n"
     ]
    }
   ],
   "source": [
    "import os\n",
    "print(os.environ['HOME'])"
   ]
  },
  {
   "cell_type": "code",
   "execution_count": 13,
   "metadata": {},
   "outputs": [
    {
     "name": "stdout",
     "output_type": "stream",
     "text": [
      "5202\n"
     ]
    }
   ],
   "source": [
    "import os\n",
    "print(os.environ['VTE_VERSION'])"
   ]
  },
  {
   "cell_type": "code",
   "execution_count": 14,
   "metadata": {},
   "outputs": [
    {
     "data": {
      "text/plain": [
       "['/home/kzhoulatte/anaconda3/envs/sgcc/lib/python36.zip',\n",
       " '/home/kzhoulatte/anaconda3/envs/sgcc/lib/python3.6',\n",
       " '/home/kzhoulatte/anaconda3/envs/sgcc/lib/python3.6/lib-dynload',\n",
       " '',\n",
       " '/home/kzhoulatte/.local/lib/python3.6/site-packages',\n",
       " '/home/kzhoulatte/anaconda3/envs/sgcc/lib/python3.6/site-packages',\n",
       " '/home/kzhoulatte/.local/lib/python3.6/site-packages/IPython/extensions',\n",
       " '/home/kzhoulatte/.ipython']"
      ]
     },
     "execution_count": 14,
     "metadata": {},
     "output_type": "execute_result"
    }
   ],
   "source": [
    "import sys\n",
    "sys.path"
   ]
  },
  {
   "cell_type": "code",
   "execution_count": 16,
   "metadata": {},
   "outputs": [],
   "source": [
    "!$PYTHONPATH"
   ]
  },
  {
   "cell_type": "code",
   "execution_count": 17,
   "metadata": {},
   "outputs": [
    {
     "name": "stdout",
     "output_type": "stream",
     "text": [
      "/bin/sh: 1: /home/kzhoulatte/anaconda3/envs/sgcc/bin:/home/kzhoulatte/anaconda3/condabin:/home/kzhoulatte/.local/bin:/usr/local/sbin:/usr/local/bin:/usr/sbin:/usr/bin:/sbin:/bin:/usr/games:/usr/local/games:/snap/bin: not found\r\n"
     ]
    }
   ],
   "source": [
    "!$PATH"
   ]
  },
  {
   "cell_type": "code",
   "execution_count": 20,
   "metadata": {},
   "outputs": [
    {
     "data": {
      "text/plain": [
       "<module 'posixpath' from '/home/kzhoulatte/anaconda3/envs/sgcc/lib/python3.6/posixpath.py'>"
      ]
     },
     "execution_count": 20,
     "metadata": {},
     "output_type": "execute_result"
    }
   ],
   "source": [
    "import os\n",
    "os.path"
   ]
  },
  {
   "cell_type": "code",
   "execution_count": null,
   "metadata": {},
   "outputs": [],
   "source": []
  }
 ],
 "metadata": {
  "kernelspec": {
   "display_name": "Python 3",
   "language": "python",
   "name": "python3"
  },
  "language_info": {
   "codemirror_mode": {
    "name": "ipython",
    "version": 3
   },
   "file_extension": ".py",
   "mimetype": "text/x-python",
   "name": "python",
   "nbconvert_exporter": "python",
   "pygments_lexer": "ipython3",
   "version": "3.6.8"
  }
 },
 "nbformat": 4,
 "nbformat_minor": 2
}
